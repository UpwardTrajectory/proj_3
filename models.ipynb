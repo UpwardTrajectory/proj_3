{
 "cells": [
  {
   "cell_type": "code",
   "execution_count": 5,
   "metadata": {},
   "outputs": [],
   "source": [
    "import pandas as pd\n",
    "import numpy as np\n",
    "from sklearn.model_selection import train_test_split, cross_val_score, GridSearchCV\n",
    "from sklearn.linear_model import LogisticRegression\n",
    "from sklearn.preprocessing import StandardScaler\n",
    "from sklearn.metrics import accuracy_score\n",
    "from sklearn.neighbors import KNeighborsClassifier\n",
    "from sklearn.tree import DecisionTreeRegressor\n",
    "from sklearn.ensemble import RandomForestClassifier, BaggingRegressor\n",
    "import xgboost as xgb"
   ]
  },
  {
   "cell_type": "code",
   "execution_count": null,
   "metadata": {},
   "outputs": [],
   "source": [
    "#Assign int to genres\n",
    "genre_dict = {\n",
    "    'Country' : 0,\n",
    "    'Classical' : 1,\n",
    "    'Metal' : 2,\n",
    "    'Jazz' : 3,\n",
    "    'Hip-hop' : 4\n",
    "}\n",
    "\n",
    "X['genre'] = X['genre'].map(genre_dict)\n",
    "#split data\n",
    "\n",
    "X_train,X_test,y_train,y_test = train_test_split(X,y,random_state=10)"
   ]
  },
  {
   "cell_type": "code",
   "execution_count": 6,
   "metadata": {},
   "outputs": [],
   "source": [
    "#Logisitic Regression\n",
    "logreg = LogisticRegression(solver='lbfgs', multi_class='multinomial')\n",
    "log_score = np.mean(cross_val_score(logreg,X,y,cv=3))\n",
    "print(\"Mean Cross Validation Score: \", log_score)"
   ]
  },
  {
   "cell_type": "code",
   "execution_count": null,
   "metadata": {},
   "outputs": [],
   "source": [
    "logreg.fit(X_train,y_train)\n",
    "logreg.score(X_test)\n",
    "print(\"Logistic Regression: \", logreg.score(X_test,y_test))"
   ]
  },
  {
   "cell_type": "code",
   "execution_count": null,
   "metadata": {},
   "outputs": [],
   "source": [
    "#Decision Trees\n",
    "dtc = DecisionTreeClassifier()\n",
    "dtc_cv_score = np.mean(cross_val_score(dtc,X,y,cv=3))\n",
    "dtc.fit(X_train,y_train)\n",
    "dtc_acc_score = dtc.score(X_test,y_test)\n",
    "print(\"Accuracy Score: \",dtc_ acc_score)\n",
    "print(\"Mean Cross Val Score: \",dtc_cv_score)"
   ]
  },
  {
   "cell_type": "code",
   "execution_count": null,
   "metadata": {},
   "outputs": [],
   "source": [
    "param_grid = {\n",
    "    'max_depth' : []\n",
    "    'min_samples_splt' : []\n",
    "    'min_samples_leaf' : []\n",
    "}\n",
    "\n",
    "grid_search = GridSearchCV(dtc, param_grid, cv=3, return_train_score=True)\n",
    "grid_search.fit(scaled_X_train,y_train)"
   ]
  },
  {
   "cell_type": "code",
   "execution_count": null,
   "metadata": {},
   "outputs": [],
   "source": [
    "gs_train_score = np.mean(grid_search.cv_results_['mean_train_score'])\n",
    "gs_test_score = grid_search.score(X_test,y_test)\n",
    "print(\"Mean training score: \", gs_train_score)\n",
    "print(\"Mean test score: \", gs_test_score)\n",
    "print(\"Best params: \")\n",
    "gs_grid_search.best_params_"
   ]
  },
  {
   "cell_type": "code",
   "execution_count": null,
   "metadata": {},
   "outputs": [],
   "source": [
    "#Random Forests\n",
    "#Bagged\n",
    "bag = BaggingRegressor(n_estimators=100)\n",
    "bag.fit(X_train, y_train)\n",
    "print(\"Bagged score: \", bag.score(X_test,y_test))\n",
    "#Random Forest\n",
    "rf = RandomForestRegressor()\n",
    "rf.fit(X_train,y_train)\n",
    "print(\"Random Forest Score: \", rf.score(X_test,y_test))"
   ]
  },
  {
   "cell_type": "code",
   "execution_count": null,
   "metadata": {},
   "outputs": [],
   "source": [
    "#k-nearest neighbors\n",
    "n = 1\n",
    "p = 100\n",
    "knn = KNearestNeighborsClassifier(n_neighbors=n, p=p)\n",
    "knn.fit(X_train,y_train)\n",
    "print(\"K_Nearest Neightbors: \", knn.score(X_test,y_test))"
   ]
  },
  {
   "cell_type": "code",
   "execution_count": null,
   "metadata": {},
   "outputs": [],
   "source": [
    "#XGBoost\n",
    "#Scale?\n",
    "scaler = StandardScaler()\n",
    "scaler.fit(X_train)\n",
    "scaled_X_train = scaler.transform(X_train)\n",
    "\n",
    "#Classifier\n",
    "xgb_clf = xgb.XGBClassifier()\n",
    "xgb_clf.fit(scaled_X_train,y_train)\n",
    "train_preds = xgb_clf.predict(scaled_X_train)\n",
    "test_preds = xgb_clf.predict(X_test)\n",
    "train_acc = accuracy_score(y_train,train_preds)\n",
    "test_acc = accuracy_score(y_test,test_preds)\n",
    "print(\"XGBoost Scores\")\n",
    "print(\"Train Score: \", train_acc)\n",
    "print(\"Test Score: \", test_acc)"
   ]
  }
 ],
 "metadata": {
  "kernelspec": {
   "display_name": "learn-env",
   "language": "python",
   "name": "learn-env"
  },
  "language_info": {
   "codemirror_mode": {
    "name": "ipython",
    "version": 3
   },
   "file_extension": ".py",
   "mimetype": "text/x-python",
   "name": "python",
   "nbconvert_exporter": "python",
   "pygments_lexer": "ipython3",
   "version": "3.6.6"
  }
 },
 "nbformat": 4,
 "nbformat_minor": 2
}
