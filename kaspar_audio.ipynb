{
 "cells": [
  {
   "cell_type": "code",
   "execution_count": null,
   "metadata": {},
   "outputs": [],
   "source": [
    "import librosa\n",
    "import numpy as np\n",
    "import pandas as pd\n",
    "import matplotlib.pyplot as plt\n",
    "import IPython.display\n",
    "import librosa.display\n",
    "import glob\n",
    "\n",
    "from kaspar_sizer import total_size\n",
    "from projaudio import read_songs\n",
    "\n",
    "plt.style.use('seaborn-muted')\n",
    "%matplotlib inline"
   ]
  },
  {
   "cell_type": "code",
   "execution_count": null,
   "metadata": {},
   "outputs": [],
   "source": [
    "%load_ext autoreload\n",
    "%autoreload 2"
   ]
  },
  {
   "cell_type": "code",
   "execution_count": null,
   "metadata": {},
   "outputs": [],
   "source": [
    "songs = read_songs(verbose=True)"
   ]
  },
  {
   "cell_type": "code",
   "execution_count": null,
   "metadata": {},
   "outputs": [],
   "source": [
    "song_names = list(songs.keys())\n",
    "song_names"
   ]
  },
  {
   "cell_type": "code",
   "execution_count": null,
   "metadata": {},
   "outputs": [],
   "source": [
    "from projaudio import play_button\n",
    "\n",
    "song = songs[song_names[0]]\n",
    "audio, sr = song['y'], song['sr']\n",
    "\n",
    "play_button(audio, sr, 6, 36)"
   ]
  },
  {
   "cell_type": "code",
   "execution_count": null,
   "metadata": {},
   "outputs": [],
   "source": [
    "from projaudio import chromaplot\n",
    "chromaplot(y, sr, 0, 14)"
   ]
  },
  {
   "cell_type": "code",
   "execution_count": null,
   "metadata": {},
   "outputs": [],
   "source": [
    "#total_size(songs)"
   ]
  },
  {
   "cell_type": "code",
   "execution_count": null,
   "metadata": {},
   "outputs": [],
   "source": [
    "contrast = librosa.feature.spectral_contrast(audio, sr)"
   ]
  },
  {
   "cell_type": "code",
   "execution_count": null,
   "metadata": {},
   "outputs": [],
   "source": [
    "for label in ['linear', 'hz', 'log', 'mel','cqt_hz','cqt_note']:\n",
    "    librosa.display.specshow(contrast, sr=sr, x_axis='time', y_axis=label)\n",
    "    plt.show();"
   ]
  },
  {
   "cell_type": "code",
   "execution_count": null,
   "metadata": {},
   "outputs": [],
   "source": [
    "features = [method for method in dir(librosa.feature) if '__' not in method]\n",
    "commands = \"\".join('df[\"'+method+'\"] = librosa.feature.'+method+'(audio, sr),\\n' for method in features)\n",
    "print(commands)"
   ]
  },
  {
   "cell_type": "code",
   "execution_count": null,
   "metadata": {},
   "outputs": [],
   "source": [
    "df = pd.DataFrame(audio)\n",
    "\n",
    "def build_features(audio=audio):\n",
    "    df[\"chroma_cens\"] = librosa.feature.chroma_cens(audio, sr),\n",
    "    df[\"chroma_cqt\"] = librosa.feature.chroma_cqt(audio, sr),\n",
    "    df[\"chroma_stft\"] = librosa.feature.chroma_stft(audio, sr),\n",
    "    df[\"delta\"] = librosa.feature.delta(audio, sr),\n",
    "    df[\"melspectrogram\"] = librosa.feature.melspectrogram(audio, sr),\n",
    "    df[\"mfcc\"] = librosa.feature.mfcc(audio, sr),\n",
    "    df[\"poly_features\"] = librosa.feature.poly_features(audio, sr),\n",
    "    df[\"rhythm\"] = librosa.feature.rhythm(audio, sr),\n",
    "    df[\"rms\"] = librosa.feature.rms(audio, sr),\n",
    "    df[\"rmse\"] = librosa.feature.rmse(audio, sr),\n",
    "    df[\"spectral\"] = librosa.feature.spectral(audio, sr),\n",
    "    df[\"spectral_bandwidth\"] = librosa.feature.spectral_bandwidth(audio, sr),\n",
    "    df[\"spectral_centroid\"] = librosa.feature.spectral_centroid(audio, sr),\n",
    "    df[\"spectral_contrast\"] = librosa.feature.spectral_contrast(audio, sr),\n",
    "    df[\"spectral_flatness\"] = librosa.feature.spectral_flatness(audio, sr),\n",
    "    df[\"spectral_rolloff\"] = librosa.feature.spectral_rolloff(audio, sr),\n",
    "    df[\"stack_memory\"] = librosa.feature.stack_memory(audio, sr),\n",
    "    df[\"tempogram\"] = librosa.feature.tempogram(audio, sr),\n",
    "    df[\"tonnetz\"] = librosa.feature.tonnetz(audio, sr),\n",
    "    df[\"utils\"] = librosa.feature.utils(audio, sr),\n",
    "    df[\"zero_crossing_rate\"] = librosa.feature.zero_crossing_rate(audio, sr)"
   ]
  },
  {
   "cell_type": "code",
   "execution_count": null,
   "metadata": {},
   "outputs": [],
   "source": [
    "build_features()"
   ]
  },
  {
   "cell_type": "code",
   "execution_count": null,
   "metadata": {},
   "outputs": [],
   "source": [
    "df.head()"
   ]
  },
  {
   "cell_type": "code",
   "execution_count": null,
   "metadata": {},
   "outputs": [],
   "source": [
    "df.plot()"
   ]
  },
  {
   "cell_type": "code",
   "execution_count": null,
   "metadata": {},
   "outputs": [],
   "source": [
    "S = librosa.feature.melspectrogram(audio, sr=sr, n_mels=128)"
   ]
  },
  {
   "cell_type": "code",
   "execution_count": null,
   "metadata": {},
   "outputs": [],
   "source": [
    "log_S = librosa.power_to_db(S, ref=np.max)\n",
    "plt.figure(figsize=(12,4))\n",
    "librosa.display.specshow(log_S, sr=sr, x_axis='time', y_axis='mel')\n",
    "plt.colorbar(format=\"%+0.2f dB\")\n",
    "plt.tight_layout()"
   ]
  },
  {
   "cell_type": "code",
   "execution_count": null,
   "metadata": {},
   "outputs": [],
   "source": [
    "y_harmonic, y_percussive = librosa.effects.hpss(audio)"
   ]
  },
  {
   "cell_type": "code",
   "execution_count": null,
   "metadata": {},
   "outputs": [],
   "source": [
    "S_harmonic   = librosa.feature.melspectrogram(y_harmonic, sr=sr)\n",
    "S_percussive = librosa.feature.melspectrogram(y_percussive, sr=sr)\n",
    "\n",
    "# Convert to log scale (dB). We'll use the peak power as reference.\n",
    "log_Sh = librosa.power_to_db(S_harmonic, ref=np.max)\n",
    "log_Sp = librosa.power_to_db(S_percussive, ref=np.max)\n",
    "\n",
    "# Make a new figure\n",
    "plt.figure(figsize=(12,6))\n",
    "\n",
    "plt.subplot(2,1,1)\n",
    "# Display the spectrogram on a mel scale\n",
    "librosa.display.specshow(log_Sh, sr=sr, y_axis='mel')\n",
    "\n",
    "# Put a descriptive title on the plot\n",
    "plt.title('mel power spectrogram (Harmonic)')\n",
    "\n",
    "# draw a color bar\n",
    "plt.colorbar(format='%+02.0f dB')\n",
    "\n",
    "plt.subplot(2,1,2)\n",
    "librosa.display.specshow(log_Sp, sr=sr, x_axis='time', y_axis='mel')\n",
    "\n",
    "# Put a descriptive title on the plot\n",
    "plt.title('mel power spectrogram (Percussive)')\n",
    "\n",
    "# draw a color bar\n",
    "plt.colorbar(format='%+02.0f dB')\n",
    "\n",
    "# Make the figure layout compact\n",
    "plt.tight_layout()"
   ]
  },
  {
   "cell_type": "code",
   "execution_count": null,
   "metadata": {},
   "outputs": [],
   "source": [
    "C = librosa.feature.chroma_cqt(y=y_harmonic, sr=sr)"
   ]
  },
  {
   "cell_type": "code",
   "execution_count": null,
   "metadata": {},
   "outputs": [],
   "source": [
    "plt.figure(figsize=(12,4))\n",
    "librosa.display.specshow(C, sr=sr, x_axis='time', y_axis='chroma', vmin=0, vmax=1)\n",
    "plt.title('Chromagram')\n",
    "plt.colorbar()\n",
    "plt.tight_layout()"
   ]
  },
  {
   "cell_type": "code",
   "execution_count": null,
   "metadata": {},
   "outputs": [],
   "source": [
    "C = librosa.feature.chroma_cqt(y=y_harmonic, sr=sr)\n",
    "def get_key(chroma=C):\n",
    "    pass"
   ]
  },
  {
   "cell_type": "code",
   "execution_count": null,
   "metadata": {},
   "outputs": [],
   "source": [
    "librosa.beat.tempo(audio)\n",
    "tempo, beat = librosa.beat.beat_track(audio)\n",
    "beat.shape"
   ]
  },
  {
   "cell_type": "code",
   "execution_count": null,
   "metadata": {},
   "outputs": [],
   "source": [
    "songs_df = pd.DataFrame({'song':\"sample song\", 'artist':'librosa', 'audio':[audio]})\n",
    "\n",
    "songs_df.assign(tempo=librosa.beat.tempo(audio))"
   ]
  },
  {
   "cell_type": "code",
   "execution_count": null,
   "metadata": {},
   "outputs": [],
   "source": [
    "audio.shape"
   ]
  },
  {
   "cell_type": "code",
   "execution_count": null,
   "metadata": {},
   "outputs": [],
   "source": [
    "C.shape"
   ]
  },
  {
   "cell_type": "code",
   "execution_count": null,
   "metadata": {},
   "outputs": [],
   "source": []
  }
 ],
 "metadata": {
  "kernelspec": {
   "display_name": "Python 3",
   "language": "python",
   "name": "python3"
  },
  "language_info": {
   "codemirror_mode": {
    "name": "ipython",
    "version": 3
   },
   "file_extension": ".py",
   "mimetype": "text/x-python",
   "name": "python",
   "nbconvert_exporter": "python",
   "pygments_lexer": "ipython3",
   "version": "3.7.1"
  }
 },
 "nbformat": 4,
 "nbformat_minor": 2
}
