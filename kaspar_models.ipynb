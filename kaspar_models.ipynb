{
 "cells": [
  {
   "cell_type": "code",
   "execution_count": 1,
   "metadata": {},
   "outputs": [],
   "source": [
    "import pandas as pd\n",
    "import numpy as np\n",
    "from sklearn.model_selection import train_test_split, cross_val_score, GridSearchCV\n",
    "from sklearn.linear_model import LogisticRegression\n",
    "from sklearn.preprocessing import StandardScaler\n",
    "from sklearn.metrics import accuracy_score\n",
    "from sklearn.neighbors import KNeighborsClassifier\n",
    "from sklearn.tree import DecisionTreeRegressor, DecisionTreeClassifier\n",
    "from sklearn.ensemble import RandomForestClassifier, BaggingRegressor\n",
    "import xgboost as xgb"
   ]
  },
  {
   "cell_type": "code",
   "execution_count": 2,
   "metadata": {},
   "outputs": [
    {
     "data": {
      "text/plain": [
       "Jazz          122\n",
       "Metal         109\n",
       "Electronic    108\n",
       "Hip_Hop       108\n",
       "Country       104\n",
       "Classical      97\n",
       "Name: label, dtype: int64"
      ]
     },
     "execution_count": 2,
     "metadata": {},
     "output_type": "execute_result"
    }
   ],
   "source": [
    "df = pd.read_csv('data.csv', index_col='Unnamed: 0')\n",
    "df['label'].value_counts()"
   ]
  },
  {
   "cell_type": "code",
   "execution_count": 4,
   "metadata": {},
   "outputs": [],
   "source": [
    "#Assign int to genres\n",
    "genre_dict = {\n",
    "    'Country' : 0,\n",
    "    'Classical' : 1,\n",
    "    'Metal' : 2,\n",
    "    'Jazz' : 3,\n",
    "    'Hip_Hop' : 4,\n",
    "    'Electronic' : 5\n",
    "}\n",
    "\n",
    "#split data\n",
    "X = df.drop(['name', 'label'], axis=1).astype(float)\n",
    "y = df['label'].map(genre_dict)\n",
    "\n",
    "X_train, X_test, y_train, y_test = train_test_split(X, y, random_state=10)\n",
    "\n",
    "# Standard Scaler\n",
    "scaler = StandardScaler()\n",
    "X_scaled = scaler.fit_transform(X)\n",
    "X_train_scaled = scaler.fit_transform(X_train)\n",
    "X_test_scaled = scaler.transform(X_test)"
   ]
  },
  {
   "cell_type": "code",
   "execution_count": 20,
   "metadata": {},
   "outputs": [
    {
     "name": "stdout",
     "output_type": "stream",
     "text": [
      "Mean Cross Validation Score:  0.7219640723063226\n"
     ]
    }
   ],
   "source": [
    "#Logisitic Regression\n",
    "\n",
    "logreg = LogisticRegression(solver='lbfgs', multi_class='multinomial')\n",
    "log_score = np.mean(cross_val_score(logreg, X_scaled, y, cv=3))\n",
    "print(\"Mean Cross Validation Score: \", log_score)"
   ]
  },
  {
   "cell_type": "code",
   "execution_count": 21,
   "metadata": {},
   "outputs": [
    {
     "name": "stdout",
     "output_type": "stream",
     "text": [
      "Logistic Regression:  0.654320987654321\n"
     ]
    }
   ],
   "source": [
    "logreg.fit(X_train_scaled, y_train)\n",
    "logist_score = logreg.score(X_test_scaled, y_test)\n",
    "print(\"Logistic Regression: \", logist_score)"
   ]
  },
  {
   "cell_type": "code",
   "execution_count": 25,
   "metadata": {},
   "outputs": [
    {
     "name": "stdout",
     "output_type": "stream",
     "text": [
      "Accuracy Score:  0.48148148148148145\n",
      "Mean Cross Val Score:  0.5398680855252921\n"
     ]
    }
   ],
   "source": [
    "#Decision Trees\n",
    "dtc = DecisionTreeClassifier()\n",
    "dtc_cv_score = np.mean(cross_val_score(dtc, X, y, cv=3))\n",
    "dtc.fit(X_train, y_train)\n",
    "dtc_acc_score = dtc.score(X_test,y_test)\n",
    "print(\"Accuracy Score: \", dtc_acc_score)\n",
    "print(\"Mean Cross Val Score: \", dtc_cv_score)"
   ]
  },
  {
   "cell_type": "code",
   "execution_count": null,
   "metadata": {},
   "outputs": [],
   "source": [
    "param_grid = {\n",
    "    'max_depth' : []\n",
    "    'min_samples_splt' : []\n",
    "    'min_samples_leaf' : []\n",
    "}\n",
    "\n",
    "grid_search = GridSearchCV(dtc, param_grid, cv=3, return_train_score=True)\n",
    "grid_search.fit(scaled_X_train,y_train)"
   ]
  },
  {
   "cell_type": "code",
   "execution_count": null,
   "metadata": {},
   "outputs": [],
   "source": [
    "gs_train_score = np.mean(grid_search.cv_results_['mean_train_score'])\n",
    "gs_test_score = grid_search.score(X_test,y_test)\n",
    "print(\"Mean training score: \", gs_train_score)\n",
    "print(\"Mean test score: \", gs_test_score)\n",
    "print(\"Best params: \")\n",
    "gs_grid_search.best_params_"
   ]
  },
  {
   "cell_type": "code",
   "execution_count": 28,
   "metadata": {},
   "outputs": [
    {
     "name": "stdout",
     "output_type": "stream",
     "text": [
      "Bagged score:  0.4523648273739921\n",
      "Random Forest Score:  0.7037037037037037\n"
     ]
    }
   ],
   "source": [
    "#Random Forests\n",
    "#Bagged\n",
    "bag = BaggingRegressor(n_estimators=100)\n",
    "bag.fit(X_train, y_train)\n",
    "print(\"Bagged score: \", bag.score(X_test, y_test))\n",
    "#Random Forest\n",
    "rf = RandomForestClassifier(n_estimators=100)\n",
    "rf.fit(X_train, y_train)\n",
    "print(\"Random Forest Score: \", rf.score(X_test, y_test))"
   ]
  },
  {
   "cell_type": "code",
   "execution_count": 30,
   "metadata": {},
   "outputs": [
    {
     "name": "stdout",
     "output_type": "stream",
     "text": [
      "K_Nearest Neightbors:  0.4506172839506173\n"
     ]
    }
   ],
   "source": [
    "#k-nearest neighbors\n",
    "n = 1\n",
    "p = 100\n",
    "knn = KNeighborsClassifier(n_neighbors=n, p=p)\n",
    "knn.fit(X_train_scaled, y_train)\n",
    "print(\"K_Nearest Neightbors: \", knn.score(X_test_scaled, y_test))"
   ]
  },
  {
   "cell_type": "code",
   "execution_count": null,
   "metadata": {},
   "outputs": [],
   "source": [
    "#XGBoost\n",
    "\n",
    "#Classifier\n",
    "xgb_clf = xgb.XGBClassifier(n_jobs=-1)\n",
    "xgb_clf.fit(X_train_scaled, y_train)\n",
    "train_preds = xgb_clf.predict(X_train_scaled)\n",
    "test_preds = xgb_clf.predict(X_test_scaled)\n",
    "train_acc = accuracy_score(y_train, train_preds)\n",
    "test_acc = accuracy_score(y_test, test_preds)\n",
    "print(\"XGBoost Scores\")\n",
    "print(\"Train Score: \", train_acc)\n",
    "print(\"Test Score: \", test_acc)"
   ]
  },
  {
   "cell_type": "code",
   "execution_count": null,
   "metadata": {},
   "outputs": [],
   "source": []
  }
 ],
 "metadata": {
  "kernelspec": {
   "display_name": "Python 3",
   "language": "python",
   "name": "python3"
  },
  "language_info": {
   "codemirror_mode": {
    "name": "ipython",
    "version": 3
   },
   "file_extension": ".py",
   "mimetype": "text/x-python",
   "name": "python",
   "nbconvert_exporter": "python",
   "pygments_lexer": "ipython3",
   "version": "3.7.1"
  }
 },
 "nbformat": 4,
 "nbformat_minor": 2
}
