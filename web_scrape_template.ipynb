{
 "cells": [
  {
   "cell_type": "markdown",
   "metadata": {},
   "source": [
    "# Template\n",
    "\n",
    "YouTube playlists:\n",
    "\n",
    "jazz - https://www.youtube.com/watch?v=RPfFhfSuUZ4&list=PL8F6B0753B2CCA128  \n",
    "\n",
    "country - https://www.youtube.com/watch?v=zXDAYlhdkyg&list=PL3oW2tjiIxvQW6c-4Iry8Bpp3QId40S5S  \n",
    "\n",
    "hip_hop - https://www.youtube.com/playlist?list=PLAPo1R_GVX4IZGbDvUH60bOwIOnZplZzM  \n",
    "\n",
    "metal - https://www.youtube.com/playlist?list=PLfY-m4YMsF-OM1zG80pMguej_Ufm8t0VC  \n",
    "\n",
    "classical - https://www.youtube.com/watch?v=kSE15tLBdso&list=PLRb-5mC4V_Lop8KLXqSqMv4_mqw5M9jjW  \n",
    "\n",
    "electronic - https://www.youtube.com/watch?v=pvuN_WvF1to&list=PLDDAxmBan0BKeIxuYWjMPBWGXDqNRaW5S"
   ]
  },
  {
   "cell_type": "code",
   "execution_count": null,
   "metadata": {},
   "outputs": [],
   "source": [
    "from __future__ import unicode_literals\n",
    "import youtube_dl\n",
    "\n",
    "genres = {'country': 'https://www.youtube.com/watch?v=zXDAYlhdkyg&list=PL3oW2tjiIxvQW6c-4Iry8Bpp3QId40S5S', \n",
    "          'jazz': 'https://www.youtube.com/watch?v=RPfFhfSuUZ4&list=PL8F6B0753B2CCA128', \n",
    "          'hip_hop': 'https://www.youtube.com/playlist?list=PLAPo1R_GVX4IZGbDvUH60bOwIOnZplZzM', \n",
    "          'classical': 'https://www.youtube.com/watch?v=kSE15tLBdso&list=PLRb-5mC4V_Lop8KLXqSqMv4_mqw5M9jjW', \n",
    "          'metal': 'https://www.youtube.com/playlist?list=PLfY-m4YMsF-OM1zG80pMguej_Ufm8t0VC', \n",
    "          'electronic': 'https://www.youtube.com/watch?v=pvuN_WvF1to&list=PLDDAxmBan0BKeIxuYWjMPBWGXDqNRaW5S'\n",
    " }\n",
    "\n",
    "for genre, playlist in genres.items():\n",
    "    \n",
    "    path = 'songs/' + genre + '/%(title)s.%(ext)s'\n",
    "    \n",
    "    ydl_opts = {\n",
    "        'format': 'bestaudio/best',\n",
    "        'ignoreerrors': True,\n",
    "        'playlistend': 110,\n",
    "        'nooverwrites': True,\n",
    "        'outtmpl': path,\n",
    "        'postprocessors': [{\n",
    "            'key': 'FFmpegExtractAudio',\n",
    "            'preferredcodec': 'mp3',\n",
    "            'preferredquality': '192',\n",
    "        }],\n",
    "    }\n",
    "\n",
    "    with youtube_dl.YoutubeDL(ydl_opts) as ydl:\n",
    "        ydl.download([playlist])"
   ]
  },
  {
   "cell_type": "code",
   "execution_count": 3,
   "metadata": {},
   "outputs": [],
   "source": [
    "import csv\n",
    "import os\n",
    "import librosa\n",
    "import numpy as np\n",
    "\n",
    "header = 'name tempo beats chroma_stft rmse spec_cent spec_bw rolloff zcr'.split()\n",
    "header += ['mfcc_' + str(i) for i in range(1,12)] + ['label']\n",
    "file = open('data.csv', 'w', newline='')\n",
    "\n",
    "with file:\n",
    "    writer = csv.writer(file)\n",
    "    writer.writerow(header)\n",
    "    genres = ['country', 'jazz'] #, 'metal', 'hip_hop', 'electronic', 'classical']\n",
    "\n",
    "for genre in genres:\n",
    "    for filename in os.listdir('./songs/' + genre):\n",
    "        if filename.endswith('.mp3'):\n",
    "            songname = f'./songs/{genre}/{filename}'\n",
    "            y, sr = librosa.load(songname, mono=True, duration=180, sr=None)\n",
    "            tempo, beats = librosa.beat.beat_track(y=y, sr=sr)\n",
    "            chroma_stft = librosa.feature.chroma_stft(y=y, sr=sr)\n",
    "            rmse = librosa.feature.rmse(y=y)\n",
    "            spec_cent = librosa.feature.spectral_centroid(y=y, sr=sr)\n",
    "            spec_bw = librosa.feature.spectral_bandwidth(y=y, sr=sr)\n",
    "            rolloff = librosa.feature.spectral_rolloff(y=y, sr=sr)\n",
    "            zcr = librosa.feature.zero_crossing_rate(y)\n",
    "            mfcc = librosa.feature.mfcc(y=y, sr=sr, n_mfcc=12)\n",
    "            label = genre.title()\n",
    "\n",
    "            to_append = f'{tempo}, {beats.shape[0]}, {np.mean(chroma_stft)}, {np.mean(rmse)},'\n",
    "            to_append += f'{np.mean(spec_cent)}, {np.mean(spec_bw)}, {np.mean(rolloff)}, {np.mean(zcr)}'    \n",
    "\n",
    "            for e in mfcc[1:]:\n",
    "                to_append += f',{np.mean(e)}'\n",
    "\n",
    "            to_append += f',{label}'\n",
    "            file = open('data.csv', 'a', newline='')\n",
    "\n",
    "            with file:\n",
    "                writer = csv.writer(file)\n",
    "                song_row = [filename] + to_append.split(',')\n",
    "                writer.writerow(song_row)"
   ]
  },
  {
   "cell_type": "code",
   "execution_count": 8,
   "metadata": {},
   "outputs": [
    {
     "data": {
      "text/plain": [
       "(648, 21)"
      ]
     },
     "execution_count": 8,
     "metadata": {},
     "output_type": "execute_result"
    }
   ],
   "source": [
    "import pandas as pd\n",
    "\n",
    "pat = pd.read_csv('classical_electronic.csv')\n",
    "zander = pd.read_csv('metal_hiphop.csv')\n",
    "zander['name'] = zander['Name']\n",
    "zander.drop('Name', axis=1, inplace=True)\n",
    "kaspar = pd.read_csv('country_jazz.csv')\n",
    "\n",
    "df = pd.concat([pat, zander, kaspar], ignore_index=True, sort=False)\n",
    "df.shape"
   ]
  },
  {
   "cell_type": "code",
   "execution_count": 12,
   "metadata": {},
   "outputs": [],
   "source": [
    "df.to_csv('data.csv')"
   ]
  },
  {
   "cell_type": "code",
   "execution_count": null,
   "metadata": {},
   "outputs": [],
   "source": []
  }
 ],
 "metadata": {
  "kernelspec": {
   "display_name": "learn-env",
   "language": "python",
   "name": "learn-env"
  },
  "language_info": {
   "codemirror_mode": {
    "name": "ipython",
    "version": 3
   },
   "file_extension": ".py",
   "mimetype": "text/x-python",
   "name": "python",
   "nbconvert_exporter": "python",
   "pygments_lexer": "ipython3",
   "version": "3.7.3"
  }
 },
 "nbformat": 4,
 "nbformat_minor": 2
}
